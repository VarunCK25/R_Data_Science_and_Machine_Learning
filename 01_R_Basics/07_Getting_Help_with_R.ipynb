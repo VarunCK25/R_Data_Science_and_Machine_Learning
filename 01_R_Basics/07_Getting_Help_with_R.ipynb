{
 "cells": [
  {
   "cell_type": "markdown",
   "metadata": {},
   "source": [
    "## Getting Help with R"
   ]
  },
  {
   "cell_type": "markdown",
   "metadata": {},
   "source": [
    "Aside from a google search or visiting StackOverflow, there are some built-in ways to get help with R!"
   ]
  },
  {
   "cell_type": "markdown",
   "metadata": {},
   "source": [
    "Most R functions have online documentation.\n",
    "\n",
    "- `help(topic)` documentation on topic ?topic id.\n",
    "- `help.search(\"topic\")` search the help system\n",
    "- `apropos(\"topic\")` the names of all objects in the search list matching the regular expression ”topic”\n",
    "- `help.start()` start the HTML version of help\n",
    "- `str(a)` display the internal structure of an R object\n",
    "- `summary(a)` gives a “summary” of a, usually a statistical summary but it is generic meaning it has different operations for different classes of a\n",
    "- `ls()` show objects in the search path; specify pat=\"pat\" to search on a pattern\n",
    "- `ls.str()` str() for each variable in the search path\n",
    "- `dir()` show files in the current directory\n",
    "- `methods(a)` shows S3 methods of a\n",
    "- `methods(class=class(a))` lists all the methods to handle objects of class a\n",
    "\n",
    "\n",
    "Let's see some basic examples of thow to use these, we won't go through all of them because some of them aren't useful to us...yet!"
   ]
  },
  {
   "cell_type": "code",
   "execution_count": 5,
   "metadata": {},
   "outputs": [],
   "source": [
    "# Need help with vectors, try help()\n",
    "help(vector)"
   ]
  },
  {
   "cell_type": "markdown",
   "metadata": {},
   "source": [
    "Very nice! We can also do a search:"
   ]
  },
  {
   "cell_type": "code",
   "execution_count": 6,
   "metadata": {},
   "outputs": [
    {
     "name": "stderr",
     "output_type": "stream",
     "text": [
      "starting httpd help server ... done\n"
     ]
    }
   ],
   "source": [
    "# This will pop up a help window  (need to pass a character string)\n",
    "help.search('numeric')"
   ]
  },
  {
   "cell_type": "code",
   "execution_count": 7,
   "metadata": {},
   "outputs": [],
   "source": [
    "# Can also use ?? for a search\n",
    "??vector"
   ]
  },
  {
   "cell_type": "code",
   "execution_count": 8,
   "metadata": {},
   "outputs": [
    {
     "data": {
      "text/plain": [
       "   Min. 1st Qu.  Median    Mean 3rd Qu.    Max. \n",
       "   1.00    2.25    3.50    3.50    4.75    6.00 "
      ]
     },
     "metadata": {},
     "output_type": "display_data"
    }
   ],
   "source": [
    "# Can also do a quick stats summary:\n",
    "v <- c(1,2,3,4,5,6)\n",
    "summary(v)"
   ]
  },
  {
   "cell_type": "markdown",
   "metadata": {},
   "source": [
    "## Thank You!"
   ]
  }
 ],
 "metadata": {
  "kernelspec": {
   "display_name": "R",
   "language": "R",
   "name": "ir"
  },
  "language_info": {
   "codemirror_mode": "r",
   "file_extension": ".r",
   "mimetype": "text/x-r-source",
   "name": "R",
   "pygments_lexer": "r",
   "version": "3.6.1"
  }
 },
 "nbformat": 4,
 "nbformat_minor": 2
}
